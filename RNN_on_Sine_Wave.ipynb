{
  "nbformat": 4,
  "nbformat_minor": 0,
  "metadata": {
    "colab": {
      "name": "RNN on Sine Wave.ipynb",
      "provenance": [],
      "collapsed_sections": [],
      "authorship_tag": "ABX9TyN8rAIFQfACjy/zQl0YI1Rv",
      "include_colab_link": true
    },
    "kernelspec": {
      "name": "python3",
      "display_name": "Python 3"
    },
    "language_info": {
      "name": "python"
    }
  },
  "cells": [
    {
      "cell_type": "markdown",
      "metadata": {
        "id": "view-in-github",
        "colab_type": "text"
      },
      "source": [
        "<a href=\"https://colab.research.google.com/github/sandeeptuluri/Projects/blob/main/RNN_on_Sine_Wave.ipynb\" target=\"_parent\"><img src=\"https://colab.research.google.com/assets/colab-badge.svg\" alt=\"Open In Colab\"/></a>"
      ]
    },
    {
      "cell_type": "code",
      "metadata": {
        "id": "xTnUqiZ2WsNt"
      },
      "source": [
        "import pandas as pd\n",
        "import numpy as np\n",
        "import matplotlib.pyplot as plt\n",
        "%matplotlib inline"
      ],
      "execution_count": null,
      "outputs": []
    },
    {
      "cell_type": "code",
      "metadata": {
        "id": "-AQArCEgXJWF"
      },
      "source": [
        "x = np.linspace(0,50,500)"
      ],
      "execution_count": null,
      "outputs": []
    },
    {
      "cell_type": "code",
      "metadata": {
        "id": "VJ8eXLuaXUq4",
        "colab": {
          "base_uri": "https://localhost:8080/"
        },
        "outputId": "4640156f-956e-4bb4-b28a-72b8fde9205a"
      },
      "source": [
        "x.shape"
      ],
      "execution_count": null,
      "outputs": [
        {
          "output_type": "execute_result",
          "data": {
            "text/plain": [
              "(500,)"
            ]
          },
          "metadata": {
            "tags": []
          },
          "execution_count": 3
        }
      ]
    },
    {
      "cell_type": "code",
      "metadata": {
        "id": "irofI1ViXVLH"
      },
      "source": [
        "y = np.sin(x)"
      ],
      "execution_count": null,
      "outputs": []
    },
    {
      "cell_type": "code",
      "metadata": {
        "colab": {
          "base_uri": "https://localhost:8080/",
          "height": 282
        },
        "id": "Lj1OjznUXd44",
        "outputId": "a2082823-ce7d-4060-b04f-8d5feb503154"
      },
      "source": [
        "plt.plot(x,y)"
      ],
      "execution_count": null,
      "outputs": [
        {
          "output_type": "execute_result",
          "data": {
            "text/plain": [
              "[<matplotlib.lines.Line2D at 0x7fd66d8aee50>]"
            ]
          },
          "metadata": {
            "tags": []
          },
          "execution_count": 5
        },
        {
          "output_type": "display_data",
          "data": {
            "image/png": "[encoded data removed]",
            "text/plain": [
              "<Figure size 432x288 with 1 Axes>"
            ]
          },
          "metadata": {
            "tags": [],
            "needs_background": "light"
          }
        }
      ]
    },
    {
      "cell_type": "code",
      "metadata": {
        "id": "XFVCEbkVXfuS"
      },
      "source": [
        "df = pd.DataFrame(data=y,index=x,columns=['Sine'])"
      ],
      "execution_count": null,
      "outputs": []
    },
    {
      "cell_type": "code",
      "metadata": {
        "colab": {
          "base_uri": "https://localhost:8080/",
          "height": 419
        },
        "id": "9bEINEKuXuMA",
        "outputId": "c5875711-61a9-49a5-e2ec-681c9302dfcf"
      },
      "source": [
        "df"
      ],
      "execution_count": null,
      "outputs": [
        {
          "output_type": "execute_result",
          "data": {
            "text/html": [
              "<div>\n",
              "<style scoped>\n",
              "    .dataframe tbody tr th:only-of-type {\n",
              "        vertical-align: middle;\n",
              "    }\n",
              "\n",
              "    .dataframe tbody tr th {\n",
              "        vertical-align: top;\n",
              "    }\n",
              "\n",
              "    .dataframe thead th {\n",
              "        text-align: right;\n",
              "    }\n",
              "</style>\n",
              "<table border=\"1\" class=\"dataframe\">\n",
              "  <thead>\n",
              "    <tr style=\"text-align: right;\">\n",
              "      <th></th>\n",
              "      <th>Sine</th>\n",
              "    </tr>\n",
              "  </thead>\n",
              "  <tbody>\n",
              "    <tr>\n",
              "      <th>0.000000</th>\n",
              "      <td>0.000000</td>\n",
              "    </tr>\n",
              "    <tr>\n",
              "      <th>0.100200</th>\n",
              "      <td>0.100033</td>\n",
              "    </tr>\n",
              "    <tr>\n",
              "      <th>0.200401</th>\n",
              "      <td>0.199062</td>\n",
              "    </tr>\n",
              "    <tr>\n",
              "      <th>0.300601</th>\n",
              "      <td>0.296095</td>\n",
              "    </tr>\n",
              "    <tr>\n",
              "      <th>0.400802</th>\n",
              "      <td>0.390157</td>\n",
              "    </tr>\n",
              "    <tr>\n",
              "      <th>...</th>\n",
              "      <td>...</td>\n",
              "    </tr>\n",
              "    <tr>\n",
              "      <th>49.599198</th>\n",
              "      <td>-0.618069</td>\n",
              "    </tr>\n",
              "    <tr>\n",
              "      <th>49.699399</th>\n",
              "      <td>-0.536331</td>\n",
              "    </tr>\n",
              "    <tr>\n",
              "      <th>49.799599</th>\n",
              "      <td>-0.449212</td>\n",
              "    </tr>\n",
              "    <tr>\n",
              "      <th>49.899800</th>\n",
              "      <td>-0.357587</td>\n",
              "    </tr>\n",
              "    <tr>\n",
              "      <th>50.000000</th>\n",
              "      <td>-0.262375</td>\n",
              "    </tr>\n",
              "  </tbody>\n",
              "</table>\n",
              "<p>500 rows × 1 columns</p>\n",
              "</div>"
            ],
            "text/plain": [
              "               Sine\n",
              "0.000000   0.000000\n",
              "0.100200   0.100033\n",
              "0.200401   0.199062\n",
              "0.300601   0.296095\n",
              "0.400802   0.390157\n",
              "...             ...\n",
              "49.599198 -0.618069\n",
              "49.699399 -0.536331\n",
              "49.799599 -0.449212\n",
              "49.899800 -0.357587\n",
              "50.000000 -0.262375\n",
              "\n",
              "[500 rows x 1 columns]"
            ]
          },
          "metadata": {
            "tags": []
          },
          "execution_count": 7
        }
      ]
    },
    {
      "cell_type": "code",
      "metadata": {
        "colab": {
          "base_uri": "https://localhost:8080/"
        },
        "id": "KJgC2j59Xu1v",
        "outputId": "da718f30-5695-41d2-c05c-808a0982c87f"
      },
      "source": [
        "len(df)"
      ],
      "execution_count": null,
      "outputs": [
        {
          "output_type": "execute_result",
          "data": {
            "text/plain": [
              "500"
            ]
          },
          "metadata": {
            "tags": []
          },
          "execution_count": 8
        }
      ]
    },
    {
      "cell_type": "code",
      "metadata": {
        "id": "lYSbnLABX5HO"
      },
      "source": [
        "test_percent = 0.1"
      ],
      "execution_count": null,
      "outputs": []
    },
    {
      "cell_type": "code",
      "metadata": {
        "id": "fBRQFzaMX_rw"
      },
      "source": [
        "a = len(df)*test_percent"
      ],
      "execution_count": null,
      "outputs": []
    },
    {
      "cell_type": "code",
      "metadata": {
        "colab": {
          "base_uri": "https://localhost:8080/"
        },
        "id": "ZflGmBr8Pgqj",
        "outputId": "9b06a538-f7a6-479d-ed5c-0d398fe924cf"
      },
      "source": [
        "a"
      ],
      "execution_count": null,
      "outputs": [
        {
          "output_type": "execute_result",
          "data": {
            "text/plain": [
              "50.0"
            ]
          },
          "metadata": {
            "tags": []
          },
          "execution_count": 11
        }
      ]
    },
    {
      "cell_type": "code",
      "metadata": {
        "id": "WZhdUPdMYhVf"
      },
      "source": [
        "test_ind = int(len(df)-a)"
      ],
      "execution_count": null,
      "outputs": []
    },
    {
      "cell_type": "code",
      "metadata": {
        "colab": {
          "base_uri": "https://localhost:8080/"
        },
        "id": "59f0SyG4Yr8n",
        "outputId": "3226bfab-7706-4a48-99bf-22acf8fc3e34"
      },
      "source": [
        "test_ind"
      ],
      "execution_count": null,
      "outputs": [
        {
          "output_type": "execute_result",
          "data": {
            "text/plain": [
              "450"
            ]
          },
          "metadata": {
            "tags": []
          },
          "execution_count": 13
        }
      ]
    },
    {
      "cell_type": "code",
      "metadata": {
        "id": "BnOExVsfYz_f"
      },
      "source": [
        "train = df.iloc[:test_ind]"
      ],
      "execution_count": null,
      "outputs": []
    },
    {
      "cell_type": "code",
      "metadata": {
        "id": "43Vz5FMqY6oG"
      },
      "source": [
        "test = df.iloc[test_ind:]"
      ],
      "execution_count": null,
      "outputs": []
    },
    {
      "cell_type": "code",
      "metadata": {
        "colab": {
          "base_uri": "https://localhost:8080/",
          "height": 1000
        },
        "id": "4OrDympfZEA3",
        "outputId": "0a6ea1eb-178c-457c-d07e-a43444dccb3f"
      },
      "source": [
        "test"
      ],
      "execution_count": null,
      "outputs": [
        {
          "output_type": "execute_result",
          "data": {
            "text/html": [
              "<div>\n",
              "<style scoped>\n",
              "    .dataframe tbody tr th:only-of-type {\n",
              "        vertical-align: middle;\n",
              "    }\n",
              "\n",
              "    .dataframe tbody tr th {\n",
              "        vertical-align: top;\n",
              "    }\n",
              "\n",
              "    .dataframe thead th {\n",
              "        text-align: right;\n",
              "    }\n",
              "</style>\n",
              "<table border=\"1\" class=\"dataframe\">\n",
              "  <thead>\n",
              "    <tr style=\"text-align: right;\">\n",
              "      <th></th>\n",
              "      <th>Sine</th>\n",
              "    </tr>\n",
              "  </thead>\n",
              "  <tbody>\n",
              "    <tr>\n",
              "      <th>45.090180</th>\n",
              "      <td>0.894755</td>\n",
              "    </tr>\n",
              "    <tr>\n",
              "      <th>45.190381</th>\n",
              "      <td>0.934938</td>\n",
              "    </tr>\n",
              "    <tr>\n",
              "      <th>45.290581</th>\n",
              "      <td>0.965741</td>\n",
              "    </tr>\n",
              "    <tr>\n",
              "      <th>45.390782</th>\n",
              "      <td>0.986856</td>\n",
              "    </tr>\n",
              "    <tr>\n",
              "      <th>45.490982</th>\n",
              "      <td>0.998072</td>\n",
              "    </tr>\n",
              "    <tr>\n",
              "      <th>45.591182</th>\n",
              "      <td>0.999275</td>\n",
              "    </tr>\n",
              "    <tr>\n",
              "      <th>45.691383</th>\n",
              "      <td>0.990453</td>\n",
              "    </tr>\n",
              "    <tr>\n",
              "      <th>45.791583</th>\n",
              "      <td>0.971696</td>\n",
              "    </tr>\n",
              "    <tr>\n",
              "      <th>45.891784</th>\n",
              "      <td>0.943191</td>\n",
              "    </tr>\n",
              "    <tr>\n",
              "      <th>45.991984</th>\n",
              "      <td>0.905224</td>\n",
              "    </tr>\n",
              "    <tr>\n",
              "      <th>46.092184</th>\n",
              "      <td>0.858176</td>\n",
              "    </tr>\n",
              "    <tr>\n",
              "      <th>46.192385</th>\n",
              "      <td>0.802519</td>\n",
              "    </tr>\n",
              "    <tr>\n",
              "      <th>46.292585</th>\n",
              "      <td>0.738811</td>\n",
              "    </tr>\n",
              "    <tr>\n",
              "      <th>46.392786</th>\n",
              "      <td>0.667692</td>\n",
              "    </tr>\n",
              "    <tr>\n",
              "      <th>46.492986</th>\n",
              "      <td>0.589875</td>\n",
              "    </tr>\n",
              "    <tr>\n",
              "      <th>46.593186</th>\n",
              "      <td>0.506140</td>\n",
              "    </tr>\n",
              "    <tr>\n",
              "      <th>46.693387</th>\n",
              "      <td>0.417328</td>\n",
              "    </tr>\n",
              "    <tr>\n",
              "      <th>46.793587</th>\n",
              "      <td>0.324329</td>\n",
              "    </tr>\n",
              "    <tr>\n",
              "      <th>46.893788</th>\n",
              "      <td>0.228077</td>\n",
              "    </tr>\n",
              "    <tr>\n",
              "      <th>46.993988</th>\n",
              "      <td>0.129537</td>\n",
              "    </tr>\n",
              "    <tr>\n",
              "      <th>47.094188</th>\n",
              "      <td>0.029697</td>\n",
              "    </tr>\n",
              "    <tr>\n",
              "      <th>47.194389</th>\n",
              "      <td>-0.070441</td>\n",
              "    </tr>\n",
              "    <tr>\n",
              "      <th>47.294589</th>\n",
              "      <td>-0.169872</td>\n",
              "    </tr>\n",
              "    <tr>\n",
              "      <th>47.394790</th>\n",
              "      <td>-0.267599</td>\n",
              "    </tr>\n",
              "    <tr>\n",
              "      <th>47.494990</th>\n",
              "      <td>-0.362641</td>\n",
              "    </tr>\n",
              "    <tr>\n",
              "      <th>47.595190</th>\n",
              "      <td>-0.454045</td>\n",
              "    </tr>\n",
              "    <tr>\n",
              "      <th>47.695391</th>\n",
              "      <td>-0.540895</td>\n",
              "    </tr>\n",
              "    <tr>\n",
              "      <th>47.795591</th>\n",
              "      <td>-0.622319</td>\n",
              "    </tr>\n",
              "    <tr>\n",
              "      <th>47.895792</th>\n",
              "      <td>-0.697499</td>\n",
              "    </tr>\n",
              "    <tr>\n",
              "      <th>47.995992</th>\n",
              "      <td>-0.765683</td>\n",
              "    </tr>\n",
              "    <tr>\n",
              "      <th>48.096192</th>\n",
              "      <td>-0.826185</td>\n",
              "    </tr>\n",
              "    <tr>\n",
              "      <th>48.196393</th>\n",
              "      <td>-0.878399</td>\n",
              "    </tr>\n",
              "    <tr>\n",
              "      <th>48.296593</th>\n",
              "      <td>-0.921802</td>\n",
              "    </tr>\n",
              "    <tr>\n",
              "      <th>48.396794</th>\n",
              "      <td>-0.955957</td>\n",
              "    </tr>\n",
              "    <tr>\n",
              "      <th>48.496994</th>\n",
              "      <td>-0.980522</td>\n",
              "    </tr>\n",
              "    <tr>\n",
              "      <th>48.597194</th>\n",
              "      <td>-0.995251</td>\n",
              "    </tr>\n",
              "    <tr>\n",
              "      <th>48.697395</th>\n",
              "      <td>-0.999996</td>\n",
              "    </tr>\n",
              "    <tr>\n",
              "      <th>48.797595</th>\n",
              "      <td>-0.994710</td>\n",
              "    </tr>\n",
              "    <tr>\n",
              "      <th>48.897796</th>\n",
              "      <td>-0.979444</td>\n",
              "    </tr>\n",
              "    <tr>\n",
              "      <th>48.997996</th>\n",
              "      <td>-0.954353</td>\n",
              "    </tr>\n",
              "    <tr>\n",
              "      <th>49.098196</th>\n",
              "      <td>-0.919688</td>\n",
              "    </tr>\n",
              "    <tr>\n",
              "      <th>49.198397</th>\n",
              "      <td>-0.875798</td>\n",
              "    </tr>\n",
              "    <tr>\n",
              "      <th>49.298597</th>\n",
              "      <td>-0.823121</td>\n",
              "    </tr>\n",
              "    <tr>\n",
              "      <th>49.398798</th>\n",
              "      <td>-0.762187</td>\n",
              "    </tr>\n",
              "    <tr>\n",
              "      <th>49.498998</th>\n",
              "      <td>-0.693607</td>\n",
              "    </tr>\n",
              "    <tr>\n",
              "      <th>49.599198</th>\n",
              "      <td>-0.618069</td>\n",
              "    </tr>\n",
              "    <tr>\n",
              "      <th>49.699399</th>\n",
              "      <td>-0.536331</td>\n",
              "    </tr>\n",
              "    <tr>\n",
              "      <th>49.799599</th>\n",
              "      <td>-0.449212</td>\n",
              "    </tr>\n",
              "    <tr>\n",
              "      <th>49.899800</th>\n",
              "      <td>-0.357587</td>\n",
              "    </tr>\n",
              "    <tr>\n",
              "      <th>50.000000</th>\n",
              "      <td>-0.262375</td>\n",
              "    </tr>\n",
              "  </tbody>\n",
              "</table>\n",
              "</div>"
            ],
            "text/plain": [
              "               Sine\n",
              "45.090180  0.894755\n",
              "45.190381  0.934938\n",
              "45.290581  0.965741\n",
              "45.390782  0.986856\n",
              "45.490982  0.998072\n",
              "45.591182  0.999275\n",
              "45.691383  0.990453\n",
              "45.791583  0.971696\n",
              "45.891784  0.943191\n",
              "45.991984  0.905224\n",
              "46.092184  0.858176\n",
              "46.192385  0.802519\n",
              "46.292585  0.738811\n",
              "46.392786  0.667692\n",
              "46.492986  0.589875\n",
              "46.593186  0.506140\n",
              "46.693387  0.417328\n",
              "46.793587  0.324329\n",
              "46.893788  0.228077\n",
              "46.993988  0.129537\n",
              "47.094188  0.029697\n",
              "47.194389 -0.070441\n",
              "47.294589 -0.169872\n",
              "47.394790 -0.267599\n",
              "47.494990 -0.362641\n",
              "47.595190 -0.454045\n",
              "47.695391 -0.540895\n",
              "47.795591 -0.622319\n",
              "47.895792 -0.697499\n",
              "47.995992 -0.765683\n",
              "48.096192 -0.826185\n",
              "48.196393 -0.878399\n",
              "48.296593 -0.921802\n",
              "48.396794 -0.955957\n",
              "48.496994 -0.980522\n",
              "48.597194 -0.995251\n",
              "48.697395 -0.999996\n",
              "48.797595 -0.994710\n",
              "48.897796 -0.979444\n",
              "48.997996 -0.954353\n",
              "49.098196 -0.919688\n",
              "49.198397 -0.875798\n",
              "49.298597 -0.823121\n",
              "49.398798 -0.762187\n",
              "49.498998 -0.693607\n",
              "49.599198 -0.618069\n",
              "49.699399 -0.536331\n",
              "49.799599 -0.449212\n",
              "49.899800 -0.357587\n",
              "50.000000 -0.262375"
            ]
          },
          "metadata": {
            "tags": []
          },
          "execution_count": 16
        }
      ]
    },
    {
      "cell_type": "code",
      "metadata": {
        "id": "6BVr57y1ZGI-"
      },
      "source": [
        "from sklearn.preprocessing import MinMaxScaler"
      ],
      "execution_count": null,
      "outputs": []
    },
    {
      "cell_type": "code",
      "metadata": {
        "id": "rEL6uY-MZR0m"
      },
      "source": [
        "scaler = MinMaxScaler()"
      ],
      "execution_count": null,
      "outputs": []
    },
    {
      "cell_type": "code",
      "metadata": {
        "id": "R_ud0enhZTn2"
      },
      "source": [
        "scaled_train = scaler.fit_transform(train)"
      ],
      "execution_count": null,
      "outputs": []
    },
    {
      "cell_type": "code",
      "metadata": {
        "id": "Xx7Vgn0LZdNn"
      },
      "source": [
        "scaled_test = scaler.transform(test)"
      ],
      "execution_count": null,
      "outputs": []
    },
    {
      "cell_type": "code",
      "metadata": {
        "id": "mu3L7XUYZg8H"
      },
      "source": [
        "from tensorflow.keras.preprocessing.sequence import TimeseriesGenerator"
      ],
      "execution_count": null,
      "outputs": []
    },
    {
      "cell_type": "code",
      "metadata": {
        "id": "sCTe3QVChBmR"
      },
      "source": [
        "#help(TimeseriesGenerator)"
      ],
      "execution_count": null,
      "outputs": []
    },
    {
      "cell_type": "code",
      "metadata": {
        "id": "jSAXxXMNhF0q"
      },
      "source": [
        "length = 2\n",
        "batch_size = 1\n",
        "\n",
        "generator = TimeseriesGenerator(scaled_train,scaled_train,length=length,batch_size=batch_size)"
      ],
      "execution_count": null,
      "outputs": []
    },
    {
      "cell_type": "code",
      "metadata": {
        "colab": {
          "base_uri": "https://localhost:8080/"
        },
        "id": "k4O2G_5shk8i",
        "outputId": "3b6c99c8-42e2-4ef1-ac7f-0828afc86099"
      },
      "source": [
        "len(generator)"
      ],
      "execution_count": null,
      "outputs": [
        {
          "output_type": "execute_result",
          "data": {
            "text/plain": [
              "448"
            ]
          },
          "metadata": {
            "tags": []
          },
          "execution_count": 24
        }
      ]
    },
    {
      "cell_type": "code",
      "metadata": {
        "colab": {
          "base_uri": "https://localhost:8080/"
        },
        "id": "Uvv73rwviDDq",
        "outputId": "3380aa95-d924-40df-f159-94781b5ba735"
      },
      "source": [
        "len(scaled_train)"
      ],
      "execution_count": null,
      "outputs": [
        {
          "output_type": "execute_result",
          "data": {
            "text/plain": [
              "450"
            ]
          },
          "metadata": {
            "tags": []
          },
          "execution_count": 25
        }
      ]
    },
    {
      "cell_type": "code",
      "metadata": {
        "id": "2uZ19P7ziHFi"
      },
      "source": [
        "x,y = generator[0]"
      ],
      "execution_count": null,
      "outputs": []
    },
    {
      "cell_type": "code",
      "metadata": {
        "colab": {
          "base_uri": "https://localhost:8080/"
        },
        "id": "TcwyGpf1iPe6",
        "outputId": "e638b006-4363-40b3-d0da-46f5273c310e"
      },
      "source": [
        "x"
      ],
      "execution_count": null,
      "outputs": [
        {
          "output_type": "execute_result",
          "data": {
            "text/plain": [
              "array([[[0.50000825],\n",
              "        [0.5500257 ]]])"
            ]
          },
          "metadata": {
            "tags": []
          },
          "execution_count": 27
        }
      ]
    },
    {
      "cell_type": "code",
      "metadata": {
        "colab": {
          "base_uri": "https://localhost:8080/"
        },
        "id": "1k7dpx67iQWR",
        "outputId": "80dc2b09-2b48-4598-f682-1d88f7dd244b"
      },
      "source": [
        "y"
      ],
      "execution_count": null,
      "outputs": [
        {
          "output_type": "execute_result",
          "data": {
            "text/plain": [
              "array([[0.59954139]])"
            ]
          },
          "metadata": {
            "tags": []
          },
          "execution_count": 28
        }
      ]
    },
    {
      "cell_type": "code",
      "metadata": {
        "colab": {
          "base_uri": "https://localhost:8080/"
        },
        "id": "qaH_dpROiQux",
        "outputId": "7452b5e8-ab30-4ed5-9681-8a909e8cb284"
      },
      "source": [
        "scaled_train"
      ],
      "execution_count": null,
      "outputs": [
        {
          "output_type": "execute_result",
          "data": {
            "text/plain": [
              "array([[5.00008248e-01],\n",
              "       [5.50025701e-01],\n",
              "       [5.99541392e-01],\n",
              "       [6.48058595e-01],\n",
              "       [6.95090598e-01],\n",
              "       [7.40165588e-01],\n",
              "       [7.82831387e-01],\n",
              "       [8.22659982e-01],\n",
              "       [8.59251825e-01],\n",
              "       [8.92239836e-01],\n",
              "       [9.21293088e-01],\n",
              "       [9.46120127e-01],\n",
              "       [9.66471896e-01],\n",
              "       [9.82144230e-01],\n",
              "       [9.92979910e-01],\n",
              "       [9.98870236e-01],\n",
              "       [9.99756115e-01],\n",
              "       [9.95628663e-01],\n",
              "       [9.86529284e-01],\n",
              "       [9.72549261e-01],\n",
              "       [9.53828838e-01],\n",
              "       [9.30555812e-01],\n",
              "       [9.02963653e-01],\n",
              "       [8.71329156e-01],\n",
              "       [8.35969671e-01],\n",
              "       [7.97239914e-01],\n",
              "       [7.55528412e-01],\n",
              "       [7.11253602e-01],\n",
              "       [6.64859637e-01],\n",
              "       [6.16811929e-01],\n",
              "       [5.67592478e-01],\n",
              "       [5.17695042e-01],\n",
              "       [4.67620176e-01],\n",
              "       [4.17870219e-01],\n",
              "       [3.68944247e-01],\n",
              "       [3.21333073e-01],\n",
              "       [2.75514319e-01],\n",
              "       [2.31947626e-01],\n",
              "       [1.91070043e-01],\n",
              "       [1.53291642e-01],\n",
              "       [1.18991406e-01],\n",
              "       [8.85134253e-02],\n",
              "       [6.21634466e-02],\n",
              "       [4.02058057e-02],\n",
              "       [2.28607753e-02],\n",
              "       [1.03023562e-02],\n",
              "       [2.65653082e-03],\n",
              "       [0.00000000e+00],\n",
              "       [2.35941332e-03],\n",
              "       [9.71110179e-03],\n",
              "       [2.19813153e-02],\n",
              "       [3.90469625e-02],\n",
              "       [6.07368456e-02],\n",
              "       [8.68333776e-02],\n",
              "       [1.17074765e-01],\n",
              "       [1.51157636e-01],\n",
              "       [1.88740079e-01],\n",
              "       [2.29445077e-01],\n",
              "       [2.72864291e-01],\n",
              "       [3.18562150e-01],\n",
              "       [3.66080226e-01],\n",
              "       [4.14941830e-01],\n",
              "       [4.64656798e-01],\n",
              "       [5.14726401e-01],\n",
              "       [5.64648356e-01],\n",
              "       [6.13921859e-01],\n",
              "       [6.62052613e-01],\n",
              "       [7.08557782e-01],\n",
              "       [7.52970840e-01],\n",
              "       [7.94846248e-01],\n",
              "       [8.33763922e-01],\n",
              "       [8.69333452e-01],\n",
              "       [9.01198014e-01],\n",
              "       [9.29037952e-01],\n",
              "       [9.52573982e-01],\n",
              "       [9.71569999e-01],\n",
              "       [9.85835438e-01],\n",
              "       [9.95227194e-01],\n",
              "       [9.99651051e-01],\n",
              "       [9.99062630e-01],\n",
              "       [9.93467833e-01],\n",
              "       [9.82922787e-01],\n",
              "       [9.67533276e-01],\n",
              "       [9.47453683e-01],\n",
              "       [9.22885442e-01],\n",
              "       [8.94075014e-01],\n",
              "       [8.61311418e-01],\n",
              "       [8.24923328e-01],\n",
              "       [7.85275780e-01],\n",
              "       [7.42766508e-01],\n",
              "       [6.97821951e-01],\n",
              "       [6.50892983e-01],\n",
              "       [6.02450381e-01],\n",
              "       [5.52980108e-01],\n",
              "       [5.02978435e-01],\n",
              "       [4.52946967e-01],\n",
              "       [4.03387604e-01],\n",
              "       [3.54797513e-01],\n",
              "       [3.07664136e-01],\n",
              "       [2.62460301e-01],\n",
              "       [2.19639482e-01],\n",
              "       [1.79631244e-01],\n",
              "       [1.42836940e-01],\n",
              "       [1.09625679e-01],\n",
              "       [8.03306282e-02],\n",
              "       [5.52456667e-02],\n",
              "       [3.46224401e-02],\n",
              "       [1.86678350e-02],\n",
              "       [7.54190342e-03],\n",
              "       [1.35625771e-03],\n",
              "       [1.72950540e-04],\n",
              "       [4.00385252e-03],\n",
              "       [1.28105331e-02],\n",
              "       [2.65046461e-02],\n",
              "       [4.49488160e-02],\n",
              "       [6.79580159e-02],\n",
              "       [9.53014240e-02],\n",
              "       [1.26704739e-01],\n",
              "       [1.61852931e-01],\n",
              "       [2.00393403e-01],\n",
              "       [2.41939529e-01],\n",
              "       [2.86074528e-01],\n",
              "       [3.32355652e-01],\n",
              "       [3.80318619e-01],\n",
              "       [4.29482280e-01],\n",
              "       [4.79353438e-01],\n",
              "       [5.29431799e-01],\n",
              "       [5.79214991e-01],\n",
              "       [6.28203603e-01],\n",
              "       [6.75906195e-01],\n",
              "       [7.21844227e-01],\n",
              "       [7.65556862e-01],\n",
              "       [8.06605588e-01],\n",
              "       [8.44578613e-01],\n",
              "       [8.79095004e-01],\n",
              "       [9.09808503e-01],\n",
              "       [9.36410998e-01],\n",
              "       [9.58635622e-01],\n",
              "       [9.76259423e-01],\n",
              "       [9.89105605e-01],\n",
              "       [9.97045298e-01],\n",
              "       [9.99998852e-01],\n",
              "       [9.97936640e-01],\n",
              "       [9.90879347e-01],\n",
              "       [9.78897772e-01],\n",
              "       [9.62112111e-01],\n",
              "       [9.40690751e-01],\n",
              "       [9.14848586e-01],\n",
              "       [8.84844859e-01],\n",
              "       [8.50980557e-01],\n",
              "       [8.13595398e-01],\n",
              "       [7.73064420e-01],\n",
              "       [7.29794218e-01],\n",
              "       [6.84218866e-01],\n",
              "       [6.36795565e-01],\n",
              "       [5.88000052e-01],\n",
              "       [5.38321829e-01],\n",
              "       [4.88259255e-01],\n",
              "       [4.38314543e-01],\n",
              "       [3.88988726e-01],\n",
              "       [3.40776626e-01],\n",
              "       [2.94161893e-01],\n",
              "       [2.49612154e-01],\n",
              "       [2.07574319e-01],\n",
              "       [1.68470100e-01],\n",
              "       [1.32691780e-01],\n",
              "       [1.00598277e-01],\n",
              "       [7.25115438e-02],\n",
              "       [4.87133392e-02],\n",
              "       [2.94424001e-02],\n",
              "       [1.48920472e-02],\n",
              "       [5.20824543e-03],\n",
              "       [4.88140177e-04],\n",
              "       [7.79082173e-04],\n",
              "       [6.07815277e-03],\n",
              "       [1.63321932e-02],\n",
              "       [3.14383377e-02],\n",
              "       [5.12450456e-02],\n",
              "       [7.55536216e-02],\n",
              "       [1.04120209e-01],\n",
              "       [1.36658235e-01],\n",
              "       [1.72841288e-01],\n",
              "       [2.12306389e-01],\n",
              "       [2.54657635e-01],\n",
              "       [2.99470171e-01],\n",
              "       [3.46294449e-01],\n",
              "       [3.94660741e-01],\n",
              "       [4.44083851e-01],\n",
              "       [4.94067978e-01],\n",
              "       [5.44111697e-01],\n",
              "       [5.93712981e-01],\n",
              "       [6.42374247e-01],\n",
              "       [6.89607335e-01],\n",
              "       [7.34938419e-01],\n",
              "       [7.77912748e-01],\n",
              "       [8.18099216e-01],\n",
              "       [8.55094683e-01],\n",
              "       [8.88528022e-01],\n",
              "       [9.18063838e-01],\n",
              "       [9.43405837e-01],\n",
              "       [9.64299794e-01],\n",
              "       [9.80536106e-01],\n",
              "       [9.91951897e-01],\n",
              "       [9.98432645e-01],\n",
              "       [9.99913338e-01],\n",
              "       [9.96379121e-01],\n",
              "       [9.87865449e-01],\n",
              "       [9.74457730e-01],\n",
              "       [9.56290464e-01],\n",
              "       [9.33545902e-01],\n",
              "       [9.06452210e-01],\n",
              "       [8.75281185e-01],\n",
              "       [8.40345526e-01],\n",
              "       [8.01995698e-01],\n",
              "       [7.60616416e-01],\n",
              "       [7.16622784e-01],\n",
              "       [6.70456136e-01],\n",
              "       [6.22579601e-01],\n",
              "       [5.73473465e-01],\n",
              "       [5.23630346e-01],\n",
              "       [4.73550256e-01],\n",
              "       [4.23735586e-01],\n",
              "       [3.74686063e-01],\n",
              "       [3.26893736e-01],\n",
              "       [2.80838046e-01],\n",
              "       [2.36981011e-01],\n",
              "       [1.95762593e-01],\n",
              "       [1.57596282e-01],\n",
              "       [1.22864954e-01],\n",
              "       [9.19170220e-02],\n",
              "       [6.50629484e-02],\n",
              "       [4.25721255e-02],\n",
              "       [2.46701749e-02],\n",
              "       [1.15366842e-02],\n",
              "       [3.30340472e-03],\n",
              "       [5.29305812e-05],\n",
              "       [1.81786960e-03],\n",
              "       [8.58051639e-03],\n",
              "       [2.02730300e-02],\n",
              "       [3.67781142e-02],\n",
              "       [5.79301948e-02],\n",
              "       [8.35170799e-02],\n",
              "       [1.13282089e-01],\n",
              "       [1.46926628e-01],\n",
              "       [1.84113183e-01],\n",
              "       [2.24468710e-01],\n",
              "       [2.67588374e-01],\n",
              "       [3.13039609e-01],\n",
              "       [3.60366462e-01],\n",
              "       [4.09094163e-01],\n",
              "       [4.58733888e-01],\n",
              "       [5.08787667e-01],\n",
              "       [5.58753372e-01],\n",
              "       [6.08129763e-01],\n",
              "       [6.56421509e-01],\n",
              "       [7.03144160e-01],\n",
              "       [7.47829008e-01],\n",
              "       [7.90027787e-01],\n",
              "       [8.29317171e-01],\n",
              "       [8.65303018e-01],\n",
              "       [8.97624330e-01],\n",
              "       [9.25956867e-01],\n",
              "       [9.50016406e-01],\n",
              "       [9.69561588e-01],\n",
              "       [9.84396341e-01],\n",
              "       [9.94371847e-01],\n",
              "       [9.99388034e-01],\n",
              "       [9.99394581e-01],\n",
              "       [9.94391424e-01],\n",
              "       [9.84428751e-01],\n",
              "       [9.69606506e-01],\n",
              "       [9.50073382e-01],\n",
              "       [9.26025329e-01],\n",
              "       [8.97703590e-01],\n",
              "       [8.65392283e-01],\n",
              "       [8.29415544e-01],\n",
              "       [7.90134282e-01],\n",
              "       [7.47942556e-01],\n",
              "       [7.03263622e-01],\n",
              "       [6.56545686e-01],\n",
              "       [6.08257411e-01],\n",
              "       [5.58883209e-01],\n",
              "       [5.08918391e-01],\n",
              "       [4.58864188e-01],\n",
              "       [4.09222731e-01],\n",
              "       [3.60492009e-01],\n",
              "       [3.13160876e-01],\n",
              "       [2.67704143e-01],\n",
              "       [2.24577821e-01],\n",
              "       [1.84214541e-01],\n",
              "       [1.47019215e-01],\n",
              "       [1.13364978e-01],\n",
              "       [8.35894385e-02],\n",
              "       [5.79912973e-02],\n",
              "       [3.68273476e-02],\n",
              "       [2.03099003e-02],\n",
              "       [8.60465390e-03],\n",
              "       [1.82903210e-03],\n",
              "       [5.10060936e-05],\n",
              "       [3.28841255e-03],\n",
              "       [1.15087747e-02],\n",
              "       [2.46296282e-02],\n",
              "       [4.25193481e-02],\n",
              "       [6.49984700e-02],\n",
              "       [9.18414893e-02],\n",
              "       [1.22779124e-01],\n",
              "       [1.57501017e-01],\n",
              "       [1.95658848e-01],\n",
              "       [2.36869828e-01],\n",
              "       [2.80720539e-01],\n",
              "       [3.26771084e-01],\n",
              "       [3.74559495e-01],\n",
              "       [4.23606375e-01],\n",
              "       [4.73419696e-01],\n",
              "       [5.23499746e-01],\n",
              "       [5.73344137e-01],\n",
              "       [6.22452842e-01],\n",
              "       [6.70333216e-01],\n",
              "       [7.16504938e-01],\n",
              "       [7.60504825e-01],\n",
              "       [8.01891483e-01],\n",
              "       [8.40249731e-01],\n",
              "       [8.75194772e-01],\n",
              "       [9.06376045e-01],\n",
              "       [9.33480749e-01],\n",
              "       [9.56236977e-01],\n",
              "       [9.74416445e-01],\n",
              "       [9.87836782e-01],\n",
              "       [9.96363358e-01],\n",
              "       [9.99910637e-01],\n",
              "       [9.98443033e-01],\n",
              "       [9.91975271e-01],\n",
              "       [9.80572231e-01],\n",
              "       [9.64348307e-01],\n",
              "       [9.43466252e-01],\n",
              "       [9.18135549e-01],\n",
              "       [8.88610309e-01],\n",
              "       [8.55186721e-01],\n",
              "       [8.18200081e-01],\n",
              "       [7.78021428e-01],\n",
              "       [7.35053825e-01],\n",
              "       [6.89728309e-01],\n",
              "       [6.42499575e-01],\n",
              "       [5.93841406e-01],\n",
              "       [5.44241930e-01],\n",
              "       [4.94198714e-01],\n",
              "       [4.44213777e-01],\n",
              "       [3.94788555e-01],\n",
              "       [3.46418867e-01],\n",
              "       [2.99589946e-01],\n",
              "       [2.54771566e-01],\n",
              "       [2.12413332e-01],\n",
              "       [1.72940170e-01],\n",
              "       [1.36748065e-01],\n",
              "       [1.04200085e-01],\n",
              "       [7.56227434e-02],\n",
              "       [5.13027192e-02],\n",
              "       [3.14839844e-02],\n",
              "       [1.63653552e-02],\n",
              "       [6.09849742e-03],\n",
              "       [7.86405330e-04],\n",
              "       [4.82368383e-04],\n",
              "       [5.18943659e-03],\n",
              "       [1.48603899e-02],\n",
              "       [2.93982121e-02],\n",
              "       [4.86570637e-02],\n",
              "       [7.24437453e-02],\n",
              "       [1.00519635e-01],\n",
              "       [1.32603085e-01],\n",
              "       [1.68372241e-01],\n",
              "       [2.07468277e-01],\n",
              "       [2.49498993e-01],\n",
              "       [2.94042749e-01],\n",
              "       [3.40652693e-01],\n",
              "       [3.88861249e-01],\n",
              "       [4.38184800e-01],\n",
              "       [4.88128547e-01],\n",
              "       [5.38191467e-01],\n",
              "       [5.87871345e-01],\n",
              "       [6.36669804e-01],\n",
              "       [6.84097312e-01],\n",
              "       [7.29678089e-01],\n",
              "       [7.72954883e-01],\n",
              "       [8.13493551e-01],\n",
              "       [8.50887422e-01],\n",
              "       [8.84761371e-01],\n",
              "       [9.14775582e-01],\n",
              "       [9.40628963e-01],\n",
              "       [9.62062159e-01],\n",
              "       [9.78860158e-01],\n",
              "       [9.90854447e-01],\n",
              "       [9.97924703e-01],\n",
              "       [1.00000000e+00],\n",
              "       [9.97059518e-01],\n",
              "       [9.89132755e-01],\n",
              "       [9.76299231e-01],\n",
              "       [9.58687688e-01],\n",
              "       [9.36474800e-01],\n",
              "       [9.09883400e-01],\n",
              "       [8.79180246e-01],\n",
              "       [8.44673344e-01],\n",
              "       [8.06708858e-01],\n",
              "       [7.65667635e-01],\n",
              "       [7.21961392e-01],\n",
              "       [6.76028576e-01],\n",
              "       [6.28329973e-01],\n",
              "       [5.79344082e-01],\n",
              "       [5.29562316e-01],\n",
              "       [4.79484071e-01],\n",
              "       [4.29611720e-01],\n",
              "       [3.80445567e-01],\n",
              "       [3.32478833e-01],\n",
              "       [2.86192709e-01],\n",
              "       [2.42051522e-01],\n",
              "       [2.00498086e-01],\n",
              "       [1.61949253e-01],\n",
              "       [1.26791734e-01],\n",
              "       [9.53782193e-02],\n",
              "       [6.80238411e-02],\n",
              "       [4.50030107e-02],\n",
              "       [2.65466667e-02],\n",
              "       [1.28399581e-02],\n",
              "       [4.02038667e-03],\n",
              "       [1.76428007e-04],\n",
              "       [1.34664361e-03],\n",
              "       [7.51929419e-03],\n",
              "       [1.86324574e-02],\n",
              "       [3.45746492e-02],\n",
              "       [5.51859418e-02],\n",
              "       [8.02595684e-02],\n",
              "       [1.09543997e-01],\n",
              "       [1.42745456e-01],\n",
              "       [1.79530875e-01],\n",
              "       [2.19531235e-01],\n",
              "       [2.62345262e-01],\n",
              "       [3.07543459e-01],\n",
              "       [3.54672408e-01],\n",
              "       [4.03259327e-01],\n",
              "       [4.52816804e-01],\n",
              "       [5.02847693e-01],\n",
              "       [5.52850097e-01],\n",
              "       [6.02322406e-01],\n",
              "       [6.50768328e-01],\n",
              "       [6.97701867e-01],\n",
              "       [7.42652198e-01],\n",
              "       [7.85168392e-01],\n",
              "       [8.24823939e-01],\n",
              "       [8.61221025e-01],\n",
              "       [8.93994524e-01],\n",
              "       [9.22815662e-01]])"
            ]
          },
          "metadata": {
            "tags": []
          },
          "execution_count": 29
        }
      ]
    },
    {
      "cell_type": "code",
      "metadata": {
        "colab": {
          "base_uri": "https://localhost:8080/",
          "height": 282
        },
        "id": "pluS61h3iUkZ",
        "outputId": "48e5f898-ae27-4c3f-a739-35b2d6cbf311"
      },
      "source": [
        "df.plot()"
      ],
      "execution_count": null,
      "outputs": [
        {
          "output_type": "execute_result",
          "data": {
            "text/plain": [
              "<matplotlib.axes._subplots.AxesSubplot at 0x7fd6230bee10>"
            ]
          },
          "metadata": {
            "tags": []
          },
          "execution_count": 30
        },
        {
          "output_type": "display_data",
          "data": {
            "image/png": "[encoded data removed]",
            "text/plain": [
              "<Figure size 432x288 with 1 Axes>"
            ]
          },
          "metadata": {
            "tags": [],
            "needs_background": "light"
          }
        }
      ]
    },
    {
      "cell_type": "code",
      "metadata": {
        "id": "CcZijRkEi-gZ"
      },
      "source": [
        "length = 50\n",
        "batch_size = 1\n",
        "\n",
        "generator = TimeseriesGenerator(scaled_train,scaled_train,length=length,batch_size=batch_size)"
      ],
      "execution_count": null,
      "outputs": []
    },
    {
      "cell_type": "code",
      "metadata": {
        "id": "P0t6p4f5kHBx"
      },
      "source": [
        "from tensorflow.keras.models import Sequential"
      ],
      "execution_count": null,
      "outputs": []
    },
    {
      "cell_type": "code",
      "metadata": {
        "id": "TFaThnplkMDI"
      },
      "source": [
        "from tensorflow.keras.layers import Dense,SimpleRNN,LSTM"
      ],
      "execution_count": null,
      "outputs": []
    },
    {
      "cell_type": "code",
      "metadata": {
        "id": "FcYj-TfOkSOp"
      },
      "source": [
        "n_features = 1"
      ],
      "execution_count": null,
      "outputs": []
    },
    {
      "cell_type": "code",
      "metadata": {
        "id": "8J_JSga1kVfB"
      },
      "source": [
        "model = Sequential()\n",
        "\n",
        "model.add(SimpleRNN(50,input_shape=(length,n_features)))\n",
        "\n",
        "model.add(Dense(1))\n",
        "\n",
        "model.compile(optimizer='adam',loss='mse')"
      ],
      "execution_count": null,
      "outputs": []
    },
    {
      "cell_type": "code",
      "metadata": {
        "colab": {
          "base_uri": "https://localhost:8080/"
        },
        "id": "mXWXS8cE1wTR",
        "outputId": "751ae983-1ee8-4e1c-93ec-05e1a76f5e1a"
      },
      "source": [
        "model.summary()"
      ],
      "execution_count": null,
      "outputs": [
        {
          "output_type": "stream",
          "text": [
            "Model: \"sequential\"\n",
            "_________________________________________________________________\n",
            "Layer (type)                 Output Shape              Param #   \n",
            "=================================================================\n",
            "simple_rnn (SimpleRNN)       (None, 50)                2600      \n",
            "_________________________________________________________________\n",
            "dense (Dense)                (None, 1)                 51        \n",
            "=================================================================\n",
            "Total params: 2,651\n",
            "Trainable params: 2,651\n",
            "Non-trainable params: 0\n",
            "_________________________________________________________________\n"
          ],
          "name": "stdout"
        }
      ]
    },
    {
      "cell_type": "code",
      "metadata": {
        "colab": {
          "base_uri": "https://localhost:8080/"
        },
        "id": "jVqX2LkZ1zL1",
        "outputId": "65e6d56a-5be3-4f3c-bd82-36c615cc2880"
      },
      "source": [
        "model.fit_generator(generator,epochs=5)"
      ],
      "execution_count": null,
      "outputs": [
        {
          "output_type": "stream",
          "text": [
            "Epoch 1/5\n"
          ],
          "name": "stdout"
        },
        {
          "output_type": "stream",
          "text": [
            "/usr/local/lib/python3.7/dist-packages/tensorflow/python/keras/engine/training.py:1940: UserWarning: `Model.fit_generator` is deprecated and will be removed in a future version. Please use `Model.fit`, which supports generators.\n",
            "  warnings.warn('`Model.fit_generator` is deprecated and '\n"
          ],
          "name": "stderr"
        },
        {
          "output_type": "stream",
          "text": [
            "400/400 [==============================] - 4s 7ms/step - loss: 0.0020\n",
            "Epoch 2/5\n",
            "400/400 [==============================] - 3s 7ms/step - loss: 4.5252e-04\n",
            "Epoch 3/5\n",
            "400/400 [==============================] - 3s 7ms/step - loss: 1.2955e-04\n",
            "Epoch 4/5\n",
            "400/400 [==============================] - 3s 7ms/step - loss: 9.8491e-05\n",
            "Epoch 5/5\n",
            "400/400 [==============================] - 3s 7ms/step - loss: 8.9932e-05\n"
          ],
          "name": "stdout"
        },
        {
          "output_type": "execute_result",
          "data": {
            "text/plain": [
              "<tensorflow.python.keras.callbacks.History at 0x7fd61f6eab50>"
            ]
          },
          "metadata": {
            "tags": []
          },
          "execution_count": 37
        }
      ]
    },
    {
      "cell_type": "code",
      "metadata": {
        "id": "gSHH4KEP17ZU"
      },
      "source": [
        "losses = pd.DataFrame(model.history.history)"
      ],
      "execution_count": null,
      "outputs": []
    },
    {
      "cell_type": "code",
      "metadata": {
        "colab": {
          "base_uri": "https://localhost:8080/",
          "height": 282
        },
        "id": "O6SLtSuM2N8K",
        "outputId": "b40ff075-6997-41b1-82cf-3a5820f51a33"
      },
      "source": [
        "losses.plot()"
      ],
      "execution_count": null,
      "outputs": [
        {
          "output_type": "execute_result",
          "data": {
            "text/plain": [
              "<matplotlib.axes._subplots.AxesSubplot at 0x7fd61dc33090>"
            ]
          },
          "metadata": {
            "tags": []
          },
          "execution_count": 39
        },
        {
          "output_type": "display_data",
          "data": {
            "image/png": "[encoded data removed]",
            "text/plain": [
              "<Figure size 432x288 with 1 Axes>"
            ]
          },
          "metadata": {
            "tags": [],
            "needs_background": "light"
          }
        }
      ]
    },
    {
      "cell_type": "code",
      "metadata": {
        "id": "rQVUUFtv2Ry8"
      },
      "source": [
        "first_eval_batch = scaled_train[-length:]"
      ],
      "execution_count": null,
      "outputs": []
    },
    {
      "cell_type": "code",
      "metadata": {
        "id": "9syZL8dt2vQj"
      },
      "source": [
        "first_eval_batch = first_eval_batch.reshape(1,length,n_features)"
      ],
      "execution_count": null,
      "outputs": []
    },
    {
      "cell_type": "code",
      "metadata": {
        "colab": {
          "base_uri": "https://localhost:8080/"
        },
        "id": "8AeJ6DCLa-Hy",
        "outputId": "0780bf0f-2c23-4d16-c404-d08145b2c5d3"
      },
      "source": [
        "model.predict(first_eval_batch)"
      ],
      "execution_count": null,
      "outputs": [
        {
          "output_type": "execute_result",
          "data": {
            "text/plain": [
              "array([[0.95661545]], dtype=float32)"
            ]
          },
          "metadata": {
            "tags": []
          },
          "execution_count": 42
        }
      ]
    },
    {
      "cell_type": "code",
      "metadata": {
        "colab": {
          "base_uri": "https://localhost:8080/"
        },
        "id": "eohKUIcYbBkm",
        "outputId": "a246038f-e8da-495a-f6bb-492bb0c907a0"
      },
      "source": [
        "scaled_test[0]"
      ],
      "execution_count": null,
      "outputs": [
        {
          "output_type": "execute_result",
          "data": {
            "text/plain": [
              "array([0.94739531])"
            ]
          },
          "metadata": {
            "tags": []
          },
          "execution_count": 43
        }
      ]
    },
    {
      "cell_type": "code",
      "metadata": {
        "id": "-cjiFEpnbKFD"
      },
      "source": [
        "test_predictions = []\n",
        "\n",
        "first_eval_batch = scaled_train[-length:]\n",
        "current_batch = first_eval_batch.reshape((1,length,n_features))\n"
      ],
      "execution_count": null,
      "outputs": []
    },
    {
      "cell_type": "code",
      "metadata": {
        "colab": {
          "base_uri": "https://localhost:8080/"
        },
        "id": "WKyo3e5Zb0-r",
        "outputId": "971999cf-ae5a-4ca8-860c-2401fbde0878"
      },
      "source": [
        "first_eval_batch"
      ],
      "execution_count": null,
      "outputs": [
        {
          "output_type": "execute_result",
          "data": {
            "text/plain": [
              "array([[8.44673344e-01],\n",
              "       [8.06708858e-01],\n",
              "       [7.65667635e-01],\n",
              "       [7.21961392e-01],\n",
              "       [6.76028576e-01],\n",
              "       [6.28329973e-01],\n",
              "       [5.79344082e-01],\n",
              "       [5.29562316e-01],\n",
              "       [4.79484071e-01],\n",
              "       [4.29611720e-01],\n",
              "       [3.80445567e-01],\n",
              "       [3.32478833e-01],\n",
              "       [2.86192709e-01],\n",
              "       [2.42051522e-01],\n",
              "       [2.00498086e-01],\n",
              "       [1.61949253e-01],\n",
              "       [1.26791734e-01],\n",
              "       [9.53782193e-02],\n",
              "       [6.80238411e-02],\n",
              "       [4.50030107e-02],\n",
              "       [2.65466667e-02],\n",
              "       [1.28399581e-02],\n",
              "       [4.02038667e-03],\n",
              "       [1.76428007e-04],\n",
              "       [1.34664361e-03],\n",
              "       [7.51929419e-03],\n",
              "       [1.86324574e-02],\n",
              "       [3.45746492e-02],\n",
              "       [5.51859418e-02],\n",
              "       [8.02595684e-02],\n",
              "       [1.09543997e-01],\n",
              "       [1.42745456e-01],\n",
              "       [1.79530875e-01],\n",
              "       [2.19531235e-01],\n",
              "       [2.62345262e-01],\n",
              "       [3.07543459e-01],\n",
              "       [3.54672408e-01],\n",
              "       [4.03259327e-01],\n",
              "       [4.52816804e-01],\n",
              "       [5.02847693e-01],\n",
              "       [5.52850097e-01],\n",
              "       [6.02322406e-01],\n",
              "       [6.50768328e-01],\n",
              "       [6.97701867e-01],\n",
              "       [7.42652198e-01],\n",
              "       [7.85168392e-01],\n",
              "       [8.24823939e-01],\n",
              "       [8.61221025e-01],\n",
              "       [8.93994524e-01],\n",
              "       [9.22815662e-01]])"
            ]
          },
          "metadata": {
            "tags": []
          },
          "execution_count": 45
        }
      ]
    },
    {
      "cell_type": "code",
      "metadata": {
        "id": "PyoWgI3Ub53q"
      },
      "source": [
        "#predicted_value = [[[99]]] \n",
        "#np.append(current_batch[:,1:,:],predicted_value,axis=1)"
      ],
      "execution_count": null,
      "outputs": []
    },
    {
      "cell_type": "code",
      "metadata": {
        "id": "wRlISNSWdJA_"
      },
      "source": [
        "test_predictions = []\n",
        "\n",
        "first_eval_batch = scaled_train[-length:]\n",
        "current_batch = first_eval_batch.reshape((1,length,n_features))\n",
        "\n",
        "for i in range(len(test)):\n",
        "\n",
        "  current_pred = model.predict(current_batch)[0]\n",
        "\n",
        "  test_predictions.append(current_pred)\n",
        "\n",
        "  current_batch = np.append(current_batch[:,1:,:],[[current_pred]],axis=1)"
      ],
      "execution_count": null,
      "outputs": []
    },
    {
      "cell_type": "code",
      "metadata": {
        "colab": {
          "base_uri": "https://localhost:8080/"
        },
        "id": "Yt_fKWj0gUtn",
        "outputId": "0da9e80f-0592-47d5-99c8-7482b4057810"
      },
      "source": [
        "test_predictions"
      ],
      "execution_count": null,
      "outputs": [
        {
          "output_type": "execute_result",
          "data": {
            "text/plain": [
              "[array([0.95661545], dtype=float32),\n",
              " array([0.9776779], dtype=float32),\n",
              " array([0.9958491], dtype=float32),\n",
              " array([1.0080764], dtype=float32),\n",
              " array([1.0154585], dtype=float32),\n",
              " array([1.0158589], dtype=float32),\n",
              " array([1.0131712], dtype=float32),\n",
              " array([1.0027487], dtype=float32),\n",
              " array([0.9893601], dtype=float32),\n",
              " array([0.9680058], dtype=float32),\n",
              " array([0.9453298], dtype=float32),\n",
              " array([0.91461605], dtype=float32),\n",
              " array([0.8822397], dtype=float32),\n",
              " array([0.84368384], dtype=float32),\n",
              " array([0.804025], dtype=float32),\n",
              " array([0.7586589], dtype=float32),\n",
              " array([0.71322775], dtype=float32),\n",
              " array([0.66270924], dtype=float32),\n",
              " array([0.61358345], dtype=float32),\n",
              " array([0.5589885], dtype=float32),\n",
              " array([0.5062266], dtype=float32),\n",
              " array([0.45021212], dtype=float32),\n",
              " array([0.39682737], dtype=float32),\n",
              " array([0.34038806], dtype=float32),\n",
              " array([0.28843987], dtype=float32),\n",
              " array([0.23489217], dtype=float32),\n",
              " array([0.18680799], dtype=float32),\n",
              " array([0.1374485], dtype=float32),\n",
              " array([0.09639295], dtype=float32),\n",
              " array([0.05437289], dtype=float32),\n",
              " array([0.02097609], dtype=float32),\n",
              " array([-0.01193652], dtype=float32),\n",
              " array([-0.03476155], dtype=float32),\n",
              " array([-0.05850372], dtype=float32),\n",
              " array([-0.07029662], dtype=float32),\n",
              " array([-0.08294284], dtype=float32),\n",
              " array([-0.08303024], dtype=float32),\n",
              " array([-0.08527917], dtype=float32),\n",
              " array([-0.07394297], dtype=float32),\n",
              " array([-0.06616616], dtype=float32),\n",
              " array([-0.04444473], dtype=float32),\n",
              " array([-0.02799733], dtype=float32),\n",
              " array([0.00459445], dtype=float32),\n",
              " array([0.02847669], dtype=float32),\n",
              " array([0.06993388], dtype=float32),\n",
              " array([0.1006815], dtype=float32),\n",
              " array([0.15072362], dtype=float32),\n",
              " array([0.18650234], dtype=float32),\n",
              " array([0.24373218], dtype=float32),\n",
              " array([0.28402245], dtype=float32)]"
            ]
          },
          "metadata": {
            "tags": []
          },
          "execution_count": 48
        }
      ]
    },
    {
      "cell_type": "code",
      "metadata": {
        "colab": {
          "base_uri": "https://localhost:8080/"
        },
        "id": "_O-zSrtqgbWB",
        "outputId": "c5cf9c0d-d010-433b-a729-1864eadffb26"
      },
      "source": [
        "scaled_test"
      ],
      "execution_count": null,
      "outputs": [
        {
          "output_type": "execute_result",
          "data": {
            "text/plain": [
              "array([[ 9.47395314e-01],\n",
              "       [ 9.67486902e-01],\n",
              "       [ 9.82888874e-01],\n",
              "       [ 9.93446722e-01],\n",
              "       [ 9.99054531e-01],\n",
              "       [ 9.99656047e-01],\n",
              "       [ 9.95245234e-01],\n",
              "       [ 9.85866341e-01],\n",
              "       [ 9.71613455e-01],\n",
              "       [ 9.52629556e-01],\n",
              "       [ 9.29105085e-01],\n",
              "       [ 9.01276034e-01],\n",
              "       [ 8.69421575e-01],\n",
              "       [ 8.33861265e-01],\n",
              "       [ 7.94951833e-01],\n",
              "       [ 7.53083610e-01],\n",
              "       [ 7.08676604e-01],\n",
              "       [ 6.62176295e-01],\n",
              "       [ 6.14049162e-01],\n",
              "       [ 5.64778001e-01],\n",
              "       [ 5.14857089e-01],\n",
              "       [ 4.64787216e-01],\n",
              "       [ 4.15070672e-01],\n",
              "       [ 3.66206198e-01],\n",
              "       [ 3.18683988e-01],\n",
              "       [ 2.72980774e-01],\n",
              "       [ 2.29555036e-01],\n",
              "       [ 1.88842410e-01],\n",
              "       [ 1.51251313e-01],\n",
              "       [ 1.17158850e-01],\n",
              "       [ 8.69070248e-02],\n",
              "       [ 6.07993170e-02],\n",
              "       [ 3.90976314e-02],\n",
              "       [ 2.20196733e-02],\n",
              "       [ 9.73676418e-03],\n",
              "       [ 2.37212264e-03],\n",
              "       [-3.71235880e-07],\n",
              "       [ 2.64308275e-03],\n",
              "       [ 1.02759662e-02],\n",
              "       [ 2.28217082e-02],\n",
              "       [ 4.01544532e-02],\n",
              "       [ 6.21003240e-02],\n",
              "       [ 8.84391658e-02],\n",
              "       [ 1.18906754e-01],\n",
              "       [ 1.53197448e-01],\n",
              "       [ 1.90967251e-01],\n",
              "       [ 2.31837267e-01],\n",
              "       [ 2.75397501e-01],\n",
              "       [ 3.21210967e-01],\n",
              "       [ 3.68818078e-01]])"
            ]
          },
          "metadata": {
            "tags": []
          },
          "execution_count": 49
        }
      ]
    },
    {
      "cell_type": "code",
      "metadata": {
        "id": "1gaqEHPegdex"
      },
      "source": [
        "true_predictions = scaler.inverse_transform(test_predictions)"
      ],
      "execution_count": null,
      "outputs": []
    },
    {
      "cell_type": "code",
      "metadata": {
        "colab": {
          "base_uri": "https://localhost:8080/"
        },
        "id": "uNM_xvmsgjUx",
        "outputId": "58a86d71-5f3a-47a7-f78c-2f45b43cef5d"
      },
      "source": [
        "test['predictions'] = true_predictions"
      ],
      "execution_count": null,
      "outputs": [
        {
          "output_type": "stream",
          "text": [
            "/usr/local/lib/python3.7/dist-packages/ipykernel_launcher.py:1: SettingWithCopyWarning: \n",
            "A value is trying to be set on a copy of a slice from a DataFrame.\n",
            "Try using .loc[row_indexer,col_indexer] = value instead\n",
            "\n",
            "See the caveats in the documentation: https://pandas.pydata.org/pandas-docs/stable/user_guide/indexing.html#returning-a-view-versus-a-copy\n",
            "  \"\"\"Entry point for launching an IPython kernel.\n"
          ],
          "name": "stderr"
        }
      ]
    },
    {
      "cell_type": "code",
      "metadata": {
        "colab": {
          "base_uri": "https://localhost:8080/",
          "height": 1000
        },
        "id": "7AMWCSiPgorG",
        "outputId": "1ede99d5-aa20-4d2a-d022-7f6005777422"
      },
      "source": [
        "test"
      ],
      "execution_count": null,
      "outputs": [
        {
          "output_type": "execute_result",
          "data": {
            "text/html": [
              "<div>\n",
              "<style scoped>\n",
              "    .dataframe tbody tr th:only-of-type {\n",
              "        vertical-align: middle;\n",
              "    }\n",
              "\n",
              "    .dataframe tbody tr th {\n",
              "        vertical-align: top;\n",
              "    }\n",
              "\n",
              "    .dataframe thead th {\n",
              "        text-align: right;\n",
              "    }\n",
              "</style>\n",
              "<table border=\"1\" class=\"dataframe\">\n",
              "  <thead>\n",
              "    <tr style=\"text-align: right;\">\n",
              "      <th></th>\n",
              "      <th>Sine</th>\n",
              "      <th>predictions</th>\n",
              "    </tr>\n",
              "  </thead>\n",
              "  <tbody>\n",
              "    <tr>\n",
              "      <th>45.090180</th>\n",
              "      <td>0.894755</td>\n",
              "      <td>0.913195</td>\n",
              "    </tr>\n",
              "    <tr>\n",
              "      <th>45.190381</th>\n",
              "      <td>0.934938</td>\n",
              "      <td>0.955319</td>\n",
              "    </tr>\n",
              "    <tr>\n",
              "      <th>45.290581</th>\n",
              "      <td>0.965741</td>\n",
              "      <td>0.991661</td>\n",
              "    </tr>\n",
              "    <tr>\n",
              "      <th>45.390782</th>\n",
              "      <td>0.986856</td>\n",
              "      <td>1.016115</td>\n",
              "    </tr>\n",
              "    <tr>\n",
              "      <th>45.490982</th>\n",
              "      <td>0.998072</td>\n",
              "      <td>1.030879</td>\n",
              "    </tr>\n",
              "    <tr>\n",
              "      <th>45.591182</th>\n",
              "      <td>0.999275</td>\n",
              "      <td>1.031680</td>\n",
              "    </tr>\n",
              "    <tr>\n",
              "      <th>45.691383</th>\n",
              "      <td>0.990453</td>\n",
              "      <td>1.026304</td>\n",
              "    </tr>\n",
              "    <tr>\n",
              "      <th>45.791583</th>\n",
              "      <td>0.971696</td>\n",
              "      <td>1.005460</td>\n",
              "    </tr>\n",
              "    <tr>\n",
              "      <th>45.891784</th>\n",
              "      <td>0.943191</td>\n",
              "      <td>0.978683</td>\n",
              "    </tr>\n",
              "    <tr>\n",
              "      <th>45.991984</th>\n",
              "      <td>0.905224</td>\n",
              "      <td>0.935975</td>\n",
              "    </tr>\n",
              "    <tr>\n",
              "      <th>46.092184</th>\n",
              "      <td>0.858176</td>\n",
              "      <td>0.890624</td>\n",
              "    </tr>\n",
              "    <tr>\n",
              "      <th>46.192385</th>\n",
              "      <td>0.802519</td>\n",
              "      <td>0.829198</td>\n",
              "    </tr>\n",
              "    <tr>\n",
              "      <th>46.292585</th>\n",
              "      <td>0.738811</td>\n",
              "      <td>0.764447</td>\n",
              "    </tr>\n",
              "    <tr>\n",
              "      <th>46.392786</th>\n",
              "      <td>0.667692</td>\n",
              "      <td>0.687337</td>\n",
              "    </tr>\n",
              "    <tr>\n",
              "      <th>46.492986</th>\n",
              "      <td>0.589875</td>\n",
              "      <td>0.608021</td>\n",
              "    </tr>\n",
              "    <tr>\n",
              "      <th>46.593186</th>\n",
              "      <td>0.506140</td>\n",
              "      <td>0.517290</td>\n",
              "    </tr>\n",
              "    <tr>\n",
              "      <th>46.693387</th>\n",
              "      <td>0.417328</td>\n",
              "      <td>0.426430</td>\n",
              "    </tr>\n",
              "    <tr>\n",
              "      <th>46.793587</th>\n",
              "      <td>0.324329</td>\n",
              "      <td>0.325395</td>\n",
              "    </tr>\n",
              "    <tr>\n",
              "      <th>46.893788</th>\n",
              "      <td>0.228077</td>\n",
              "      <td>0.227146</td>\n",
              "    </tr>\n",
              "    <tr>\n",
              "      <th>46.993988</th>\n",
              "      <td>0.129537</td>\n",
              "      <td>0.117958</td>\n",
              "    </tr>\n",
              "    <tr>\n",
              "      <th>47.094188</th>\n",
              "      <td>0.029697</td>\n",
              "      <td>0.012436</td>\n",
              "    </tr>\n",
              "    <tr>\n",
              "      <th>47.194389</th>\n",
              "      <td>-0.070441</td>\n",
              "      <td>-0.099590</td>\n",
              "    </tr>\n",
              "    <tr>\n",
              "      <th>47.294589</th>\n",
              "      <td>-0.169872</td>\n",
              "      <td>-0.206357</td>\n",
              "    </tr>\n",
              "    <tr>\n",
              "      <th>47.394790</th>\n",
              "      <td>-0.267599</td>\n",
              "      <td>-0.319234</td>\n",
              "    </tr>\n",
              "    <tr>\n",
              "      <th>47.494990</th>\n",
              "      <td>-0.362641</td>\n",
              "      <td>-0.423128</td>\n",
              "    </tr>\n",
              "    <tr>\n",
              "      <th>47.595190</th>\n",
              "      <td>-0.454045</td>\n",
              "      <td>-0.530221</td>\n",
              "    </tr>\n",
              "    <tr>\n",
              "      <th>47.695391</th>\n",
              "      <td>-0.540895</td>\n",
              "      <td>-0.626387</td>\n",
              "    </tr>\n",
              "    <tr>\n",
              "      <th>47.795591</th>\n",
              "      <td>-0.622319</td>\n",
              "      <td>-0.725104</td>\n",
              "    </tr>\n",
              "    <tr>\n",
              "      <th>47.895792</th>\n",
              "      <td>-0.697499</td>\n",
              "      <td>-0.807214</td>\n",
              "    </tr>\n",
              "    <tr>\n",
              "      <th>47.995992</th>\n",
              "      <td>-0.765683</td>\n",
              "      <td>-0.891252</td>\n",
              "    </tr>\n",
              "    <tr>\n",
              "      <th>48.096192</th>\n",
              "      <td>-0.826185</td>\n",
              "      <td>-0.958044</td>\n",
              "    </tr>\n",
              "    <tr>\n",
              "      <th>48.196393</th>\n",
              "      <td>-0.878399</td>\n",
              "      <td>-1.023868</td>\n",
              "    </tr>\n",
              "    <tr>\n",
              "      <th>48.296593</th>\n",
              "      <td>-0.921802</td>\n",
              "      <td>-1.069517</td>\n",
              "    </tr>\n",
              "    <tr>\n",
              "      <th>48.396794</th>\n",
              "      <td>-0.955957</td>\n",
              "      <td>-1.117001</td>\n",
              "    </tr>\n",
              "    <tr>\n",
              "      <th>48.496994</th>\n",
              "      <td>-0.980522</td>\n",
              "      <td>-1.140586</td>\n",
              "    </tr>\n",
              "    <tr>\n",
              "      <th>48.597194</th>\n",
              "      <td>-0.995251</td>\n",
              "      <td>-1.165878</td>\n",
              "    </tr>\n",
              "    <tr>\n",
              "      <th>48.697395</th>\n",
              "      <td>-0.999996</td>\n",
              "      <td>-1.166053</td>\n",
              "    </tr>\n",
              "    <tr>\n",
              "      <th>48.797595</th>\n",
              "      <td>-0.994710</td>\n",
              "      <td>-1.170550</td>\n",
              "    </tr>\n",
              "    <tr>\n",
              "      <th>48.897796</th>\n",
              "      <td>-0.979444</td>\n",
              "      <td>-1.147878</td>\n",
              "    </tr>\n",
              "    <tr>\n",
              "      <th>48.997996</th>\n",
              "      <td>-0.954353</td>\n",
              "      <td>-1.132325</td>\n",
              "    </tr>\n",
              "    <tr>\n",
              "      <th>49.098196</th>\n",
              "      <td>-0.919688</td>\n",
              "      <td>-1.088883</td>\n",
              "    </tr>\n",
              "    <tr>\n",
              "      <th>49.198397</th>\n",
              "      <td>-0.875798</td>\n",
              "      <td>-1.055989</td>\n",
              "    </tr>\n",
              "    <tr>\n",
              "      <th>49.298597</th>\n",
              "      <td>-0.823121</td>\n",
              "      <td>-0.990807</td>\n",
              "    </tr>\n",
              "    <tr>\n",
              "      <th>49.398798</th>\n",
              "      <td>-0.762187</td>\n",
              "      <td>-0.943043</td>\n",
              "    </tr>\n",
              "    <tr>\n",
              "      <th>49.498998</th>\n",
              "      <td>-0.693607</td>\n",
              "      <td>-0.860131</td>\n",
              "    </tr>\n",
              "    <tr>\n",
              "      <th>49.599198</th>\n",
              "      <td>-0.618069</td>\n",
              "      <td>-0.798637</td>\n",
              "    </tr>\n",
              "    <tr>\n",
              "      <th>49.699399</th>\n",
              "      <td>-0.536331</td>\n",
              "      <td>-0.698555</td>\n",
              "    </tr>\n",
              "    <tr>\n",
              "      <th>49.799599</th>\n",
              "      <td>-0.449212</td>\n",
              "      <td>-0.626999</td>\n",
              "    </tr>\n",
              "    <tr>\n",
              "      <th>49.899800</th>\n",
              "      <td>-0.357587</td>\n",
              "      <td>-0.512541</td>\n",
              "    </tr>\n",
              "    <tr>\n",
              "      <th>50.000000</th>\n",
              "      <td>-0.262375</td>\n",
              "      <td>-0.431963</td>\n",
              "    </tr>\n",
              "  </tbody>\n",
              "</table>\n",
              "</div>"
            ],
            "text/plain": [
              "               Sine  predictions\n",
              "45.090180  0.894755     0.913195\n",
              "45.190381  0.934938     0.955319\n",
              "45.290581  0.965741     0.991661\n",
              "45.390782  0.986856     1.016115\n",
              "45.490982  0.998072     1.030879\n",
              "45.591182  0.999275     1.031680\n",
              "45.691383  0.990453     1.026304\n",
              "45.791583  0.971696     1.005460\n",
              "45.891784  0.943191     0.978683\n",
              "45.991984  0.905224     0.935975\n",
              "46.092184  0.858176     0.890624\n",
              "46.192385  0.802519     0.829198\n",
              "46.292585  0.738811     0.764447\n",
              "46.392786  0.667692     0.687337\n",
              "46.492986  0.589875     0.608021\n",
              "46.593186  0.506140     0.517290\n",
              "46.693387  0.417328     0.426430\n",
              "46.793587  0.324329     0.325395\n",
              "46.893788  0.228077     0.227146\n",
              "46.993988  0.129537     0.117958\n",
              "47.094188  0.029697     0.012436\n",
              "47.194389 -0.070441    -0.099590\n",
              "47.294589 -0.169872    -0.206357\n",
              "47.394790 -0.267599    -0.319234\n",
              "47.494990 -0.362641    -0.423128\n",
              "47.595190 -0.454045    -0.530221\n",
              "47.695391 -0.540895    -0.626387\n",
              "47.795591 -0.622319    -0.725104\n",
              "47.895792 -0.697499    -0.807214\n",
              "47.995992 -0.765683    -0.891252\n",
              "48.096192 -0.826185    -0.958044\n",
              "48.196393 -0.878399    -1.023868\n",
              "48.296593 -0.921802    -1.069517\n",
              "48.396794 -0.955957    -1.117001\n",
              "48.496994 -0.980522    -1.140586\n",
              "48.597194 -0.995251    -1.165878\n",
              "48.697395 -0.999996    -1.166053\n",
              "48.797595 -0.994710    -1.170550\n",
              "48.897796 -0.979444    -1.147878\n",
              "48.997996 -0.954353    -1.132325\n",
              "49.098196 -0.919688    -1.088883\n",
              "49.198397 -0.875798    -1.055989\n",
              "49.298597 -0.823121    -0.990807\n",
              "49.398798 -0.762187    -0.943043\n",
              "49.498998 -0.693607    -0.860131\n",
              "49.599198 -0.618069    -0.798637\n",
              "49.699399 -0.536331    -0.698555\n",
              "49.799599 -0.449212    -0.626999\n",
              "49.899800 -0.357587    -0.512541\n",
              "50.000000 -0.262375    -0.431963"
            ]
          },
          "metadata": {
            "tags": []
          },
          "execution_count": 52
        }
      ]
    },
    {
      "cell_type": "code",
      "metadata": {
        "colab": {
          "base_uri": "https://localhost:8080/",
          "height": 500
        },
        "id": "-Ro-Z3jbgpm-",
        "outputId": "b4552ab9-063f-41c2-c9f3-4c974cfe89db"
      },
      "source": [
        "test.plot(figsize=(12,8))"
      ],
      "execution_count": null,
      "outputs": [
        {
          "output_type": "execute_result",
          "data": {
            "text/plain": [
              "<matplotlib.axes._subplots.AxesSubplot at 0x7fd61c9684d0>"
            ]
          },
          "metadata": {
            "tags": []
          },
          "execution_count": 53
        },
        {
          "output_type": "display_data",
          "data": {
            "image/png": "[encoded data removed]",
            "text/plain": [
              "<Figure size 864x576 with 1 Axes>"
            ]
          },
          "metadata": {
            "tags": [],
            "needs_background": "light"
          }
        }
      ]
    },
    {
      "cell_type": "code",
      "metadata": {
        "id": "bGcEHNtGgyjG"
      },
      "source": [
        "from tensorflow.keras.callbacks import EarlyStopping"
      ],
      "execution_count": null,
      "outputs": []
    },
    {
      "cell_type": "code",
      "metadata": {
        "id": "yYCM_mcIi_NK"
      },
      "source": [
        "early_stop = EarlyStopping(monitor = 'val_loss',patience=2)"
      ],
      "execution_count": null,
      "outputs": []
    },
    {
      "cell_type": "code",
      "metadata": {
        "id": "MdaFippojNe7"
      },
      "source": [
        "length = 49\n",
        "generator = TimeseriesGenerator(scaled_train,scaled_train,\n",
        "                                length=length,batch_size=1)\n",
        "\n",
        "validation_generator = TimeseriesGenerator(scaled_test,scaled_test,\n",
        "                                           length=length,batch_size=1)"
      ],
      "execution_count": null,
      "outputs": []
    },
    {
      "cell_type": "code",
      "metadata": {
        "id": "53_Ty2D5jVjx"
      },
      "source": [
        "model = Sequential()\n",
        "\n",
        "model.add(LSTM(50,input_shape=(length,n_features)))\n",
        "\n",
        "model.add(Dense(1))\n",
        "\n",
        "model.compile(optimizer='adam',loss='mse')"
      ],
      "execution_count": null,
      "outputs": []
    },
    {
      "cell_type": "code",
      "metadata": {
        "colab": {
          "base_uri": "https://localhost:8080/"
        },
        "id": "8hEmw6m8knsB",
        "outputId": "f82ff16b-06e2-467a-9b03-174dec250e0f"
      },
      "source": [
        "model.fit_generator(generator,epochs=20,validation_data=validation_generator,\n",
        "                    callbacks=[early_stop])"
      ],
      "execution_count": null,
      "outputs": [
        {
          "output_type": "stream",
          "text": [
            "/usr/local/lib/python3.7/dist-packages/tensorflow/python/keras/engine/training.py:1940: UserWarning: `Model.fit_generator` is deprecated and will be removed in a future version. Please use `Model.fit`, which supports generators.\n",
            "  warnings.warn('`Model.fit_generator` is deprecated and '\n"
          ],
          "name": "stderr"
        },
        {
          "output_type": "stream",
          "text": [
            "Epoch 1/20\n",
            "401/401 [==============================] - 9s 18ms/step - loss: 0.0192 - val_loss: 2.2112e-05\n",
            "Epoch 2/20\n",
            "401/401 [==============================] - 7s 17ms/step - loss: 2.2879e-04 - val_loss: 3.7148e-05\n",
            "Epoch 3/20\n",
            "401/401 [==============================] - 7s 17ms/step - loss: 1.1833e-04 - val_loss: 6.1109e-05\n"
          ],
          "name": "stdout"
        },
        {
          "output_type": "execute_result",
          "data": {
            "text/plain": [
              "<tensorflow.python.keras.callbacks.History at 0x7fd61c8e5990>"
            ]
          },
          "metadata": {
            "tags": []
          },
          "execution_count": 58
        }
      ]
    },
    {
      "cell_type": "code",
      "metadata": {
        "id": "YNIqRjCllRqM"
      },
      "source": [
        "test_predictions = []\n",
        "\n",
        "first_eval_batch = scaled_train[-length:]\n",
        "current_batch = first_eval_batch.reshape((1,length,n_features))\n",
        "\n",
        "for i in range(len(test)):\n",
        "\n",
        "  current_pred = model.predict(current_batch)[0]\n",
        "\n",
        "  test_predictions.append(current_pred)\n",
        "\n",
        "  current_batch = np.append(current_batch[:,1:,:],[[current_pred]],axis=1)"
      ],
      "execution_count": null,
      "outputs": []
    },
    {
      "cell_type": "code",
      "metadata": {
        "colab": {
          "base_uri": "https://localhost:8080/",
          "height": 602
        },
        "id": "tcTD6EFalodW",
        "outputId": "f6758c30-1f8e-4819-c9e2-c9faed27b099"
      },
      "source": [
        "true_predictions = scaler.inverse_transform(test_predictions)\n",
        "test['LSTM Predictions']=true_predictions\n",
        "test.plot(figsize=(12,8))"
      ],
      "execution_count": null,
      "outputs": [
        {
          "output_type": "stream",
          "text": [
            "/usr/local/lib/python3.7/dist-packages/ipykernel_launcher.py:2: SettingWithCopyWarning: \n",
            "A value is trying to be set on a copy of a slice from a DataFrame.\n",
            "Try using .loc[row_indexer,col_indexer] = value instead\n",
            "\n",
            "See the caveats in the documentation: https://pandas.pydata.org/pandas-docs/stable/user_guide/indexing.html#returning-a-view-versus-a-copy\n",
            "  \n"
          ],
          "name": "stderr"
        },
        {
          "output_type": "execute_result",
          "data": {
            "text/plain": [
              "<matplotlib.axes._subplots.AxesSubplot at 0x7fd61a9266d0>"
            ]
          },
          "metadata": {
            "tags": []
          },
          "execution_count": 60
        },
        {
          "output_type": "display_data",
          "data": {
            "image/png": "[encoded data removed]",
            "text/plain": [
              "<Figure size 864x576 with 1 Axes>"
            ]
          },
          "metadata": {
            "tags": [],
            "needs_background": "light"
          }
        }
      ]
    },
    {
      "cell_type": "code",
      "metadata": {
        "id": "lCFeaVVbmEn5"
      },
      "source": [
        ""
      ],
      "execution_count": null,
      "outputs": []
    }
  ]
}